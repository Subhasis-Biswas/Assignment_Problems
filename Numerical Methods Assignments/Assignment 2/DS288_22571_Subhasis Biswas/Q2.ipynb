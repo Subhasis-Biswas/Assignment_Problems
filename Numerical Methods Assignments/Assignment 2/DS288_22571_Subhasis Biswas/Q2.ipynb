{
 "cells": [
  {
   "cell_type": "code",
   "execution_count": 11,
   "metadata": {},
   "outputs": [
    {
     "name": "stdout",
     "output_type": "stream",
     "text": [
      "Root found by the Secant Method:  0.5177573636823998 with 7 iterations\n",
      "Root rounded to 6 decimal places:  0.517757\n",
      "Root found by the Muller Method:  0.5177573636824584 with 4 iterations\n",
      "Root rounded to 6 decimal places:  0.517757\n"
     ]
    }
   ],
   "source": [
    "import math\n",
    "def f(x):\n",
    "    return math.cos(x)-x*math.e**x     #Define the function here\n",
    "\n",
    "#secant method\n",
    "\n",
    "\n",
    "def secantmethod(init_left,init_right,epsilon):   #Secant Method, with init_left and init_right as initial guesses\n",
    "                                                    #and epsilon as the error tolerance\n",
    "    iter=0     #Number of iterations\n",
    "    a=init_left\n",
    "    b=init_right\n",
    "    if(f(b)==f(a)):   #Checking if denominator is zero\n",
    "        return None\n",
    "    c=(a*f(b)-b*f(a))/(f(b)-f(a))         #First iteration outside the loop\n",
    "    iter+=1\n",
    "    while(abs(c-b)/abs(c)>epsilon):\n",
    "        iter+=1\n",
    "        a=b\n",
    "        b=c\n",
    "        if(f(b)==f(a)):\n",
    "            return None      #If the function value at the two points is the same, the secant method fails\n",
    "        c=(a*f(b)-b*f(a))/(f(b)-f(a))      #The secant method formula\n",
    "        if(f(c)==0):\n",
    "            return c,iter\n",
    "    return c,iter\n",
    "if(secantmethod(0,1,10**(-6))[0]==None):\n",
    "    print(\"Secant Method Failed, Denominator is zero\")\n",
    "else:\n",
    "    print(\"Root found by the Secant Method: \",secantmethod(0,1,10**(-6))[0], \"with\",secantmethod(0,1,10**(-6))[1],\"iterations\")\n",
    "    print(\"Root rounded to 6 decimal places: \",round(secantmethod(0,1,10**(-6))[0],6))\n",
    "\n",
    "\n",
    "def sgn(x):    #Signum function\n",
    "    if(x>0):\n",
    "        return 1\n",
    "    elif(x<0):\n",
    "        return -1\n",
    "    else:\n",
    "        return 0\n",
    "\n",
    "def muller(x0,x1,x2,epsilon):\n",
    "    iter=0\n",
    "    while(abs(x1-x2)/abs(x2)>epsilon):\n",
    "        \n",
    "        a=((x1-x2)*(f(x0)-f(x2))-(x0-x2)*(f(x1)-f(x2)))/((x0-x2)*(x1-x2)*(x0-x1))\n",
    "        b=((x0-x2)**2*(f(x1)-f(x2))-(x1-x2)**2*(f(x0)-f(x2)))/((x0-x2)*(x1-x2)*(x0-x1))\n",
    "        c=f(x2)\n",
    "        if((b**2-4*a*c)<0):\n",
    "            return None,iter\n",
    "        iter+=1\n",
    "        x3=x2-2*c/(b+sgn(b)*math.sqrt(b**2-4*a*c))   \n",
    "        if(f(x3)==0):\n",
    "            return x3,iter      #If the root is found, return the root and the number of iterations\n",
    "        x0,x1,x2=x1,x2,x3        #Updating the values of x0,x1,x2\n",
    "    return x3,iter\n",
    "\n",
    "if(muller(0,0.5,1,10**(-6))[0]==None):\n",
    "    print(\"Muller Method Failed, found complex root\")\n",
    "else:    \n",
    "    print(\"Root found by the Muller Method: \",muller(0,0.5,1,10**(-6))[0], \"with\",muller(0,0.5,1,10**(-6))[1],\"iterations\")\n",
    "    print(\"Root rounded to 6 decimal places: \",round(muller(0,0.5,1,10**(-6))[0],6))"
   ]
  }
 ],
 "metadata": {
  "kernelspec": {
   "display_name": "Python 3",
   "language": "python",
   "name": "python3"
  },
  "language_info": {
   "codemirror_mode": {
    "name": "ipython",
    "version": 3
   },
   "file_extension": ".py",
   "mimetype": "text/x-python",
   "name": "python",
   "nbconvert_exporter": "python",
   "pygments_lexer": "ipython3",
   "version": "3.8.10"
  },
  "orig_nbformat": 4
 },
 "nbformat": 4,
 "nbformat_minor": 2
}
