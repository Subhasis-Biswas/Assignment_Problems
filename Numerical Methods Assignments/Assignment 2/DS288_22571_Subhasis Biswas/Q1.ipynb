{
 "cells": [
  {
   "cell_type": "code",
   "execution_count": 1,
   "metadata": {},
   "outputs": [
    {
     "name": "stdout",
     "output_type": "stream",
     "text": [
      "Time from Launch to Orbital Insertion is  1916400.0  seconds. ( 22.180555555555557  days )\n",
      "The mean anomaly is  5.10119109706249  radians.\n",
      "Eccentric anomaly is  5.049378992388063  radians, after  5  iterations.\n",
      "Eccentric anomaly rounded off to 8 decimal places is  5.04937899\n",
      "The coordinates of the moon at the time of orbital insertion are ( 105997.49400736 , -362212.85668586 ). in km\n"
     ]
    }
   ],
   "source": [
    "#convert time to unix time\n",
    "\n",
    "import time\n",
    "import datetime\n",
    "from datetime import datetime\n",
    "import math\n",
    "def unix(time_str):\n",
    "    time_str = time_str.replace(\":\", \"\")    #remove colons from time\n",
    "    #convert to datetime\n",
    "    time_str = datetime.strptime(time_str, \"%d-%m-%Y %H%M%S\")   #convert to datetime format that can be used by time.mktime function\n",
    "    #convert to unix time\n",
    "    unix_time = time.mktime(time_str.timetuple()) #convert to unix time\n",
    "    return unix_time+3600*5.5   #add 5.5 hours to convert to IST\n",
    "\n",
    "\n",
    "#Solution to the problem\n",
    "\n",
    "elapsed_seconds=unix(\"05-08-2023 19:00:00\")-unix(\"14-07-2023 14:40:00\")   #time difference between 14-07-2023 14:40:00 and 05-08-2023 19:00:00 in seconds\n",
    "elapsed_days=elapsed_seconds/(24*3600)   #time difference in days\n",
    "\n",
    "print(\"Time from Launch to Orbital Insertion is \",elapsed_seconds,\" seconds.\", \"(\",elapsed_days,\" days )\" )\n",
    "\n",
    "M=2*math.pi*elapsed_days/(27.32)   #mean anomaly, assuming circular orbit\n",
    "                                    #27.32 is the period of moon's orbit in days\n",
    "\n",
    "print(\"The mean anomaly is \",M,\" radians.\")\n",
    "#M=E-e_moon*math.sin(E)\n",
    "e_moon=0.0549    #eccentricity of moon's orbit\n",
    "\n",
    "iteration_count=0\n",
    "E=[]    #list of approximations of eccentric anomaly\n",
    "E+=[M]  #first approximation of eccentric anomaly as mean anomaly\n",
    "E+=[M+e_moon*math.sin(E[-1])]\n",
    "iteration_count+=1\n",
    "\n",
    "while(abs(E[-1]-E[-2])/abs(E[-1])>10**(-8)):\n",
    "    E+=[M+e_moon*math.sin(E[-1])]      #Fixed point iteration scheme\n",
    "    iteration_count+=1\n",
    "E=E[-1] #E is the last element of the list E, i.e. the last approximation of eccentric anomaly\n",
    "         #within error tolerance\n",
    "print(\"Eccentric anomaly is \",E,\" radians, after \",iteration_count,\" iterations.\")\n",
    "                \n",
    "\n",
    "print(\"Eccentric anomaly rounded off to 8 decimal places is \",round(E,8))\n",
    "\n",
    "E=round(E,8)    #round off to 8 decimal places\n",
    "a=384400   #semi-major axis of moon's orbit in km\n",
    "b=383800   #semi-minor axis of moon's orbit in km\n",
    "\n",
    "x_coordinate=a*(math.cos(E)-e_moon)\n",
    "y_coordinate=b*math.sin(E)\n",
    "print(\"The coordinates of the moon at the time of orbital insertion are (\",round(x_coordinate,8),\",\",round(y_coordinate,8),\"). in km\")\n"
   ]
  }
 ],
 "metadata": {
  "kernelspec": {
   "display_name": "Python 3 (ipykernel)",
   "language": "python",
   "name": "python3"
  },
  "language_info": {
   "codemirror_mode": {
    "name": "ipython",
    "version": 3
   },
   "file_extension": ".py",
   "mimetype": "text/x-python",
   "name": "python",
   "nbconvert_exporter": "python",
   "pygments_lexer": "ipython3",
   "version": "3.8.10"
  }
 },
 "nbformat": 4,
 "nbformat_minor": 2
}
