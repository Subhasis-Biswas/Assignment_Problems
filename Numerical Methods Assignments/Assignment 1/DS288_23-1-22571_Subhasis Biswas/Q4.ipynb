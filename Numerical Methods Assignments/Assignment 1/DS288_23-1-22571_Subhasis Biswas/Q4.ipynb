{
 "cells": [
  {
   "attachments": {},
   "cell_type": "markdown",
   "metadata": {},
   "source": [
    "# Question 4:"
   ]
  },
  {
   "attachments": {},
   "cell_type": "markdown",
   "metadata": {},
   "source": [
    "### Secant method with endpoints $[0,0.9]$ with relative tolerance: $10^{-4}$"
   ]
  },
  {
   "attachments": {},
   "cell_type": "markdown",
   "metadata": {},
   "source": [
    " $f(x)=\\displaystyle\\frac{2\\times10^4}{1+19e^{-10x}}-10000$"
   ]
  },
  {
   "attachments": {},
   "cell_type": "markdown",
   "metadata": {},
   "source": [
    "### With endpoints $[0,1]$"
   ]
  },
  {
   "cell_type": "code",
   "execution_count": 2,
   "metadata": {},
   "outputs": [
    {
     "ename": "SystemExit",
     "evalue": "The function has equal values at two successive iteration points:x_4=16.077921625358748, x_5=7.809090406962769 and hence the Secant Method cannot be applied on [0,1].\n The value of the function at both these points is 10000.0",
     "output_type": "error",
     "traceback": [
      "An exception has occurred, use %tb to see the full traceback.\n",
      "\u001b[0;31mSystemExit\u001b[0m\u001b[0;31m:\u001b[0m The function has equal values at two successive iteration points:x_4=16.077921625358748, x_5=7.809090406962769 and hence the Secant Method cannot be applied on [0,1].\n The value of the function at both these points is 10000.0\n"
     ]
    },
    {
     "name": "stderr",
     "output_type": "stream",
     "text": [
      "/home/subhasis/.local/lib/python3.8/site-packages/IPython/core/interactiveshell.py:3516: UserWarning: To exit: use 'exit', 'quit', or Ctrl-D.\n",
      "  warn(\"To exit: use 'exit', 'quit', or Ctrl-D.\", stacklevel=1)\n"
     ]
    }
   ],
   "source": [
    "#importing the python libraries\n",
    "import matplotlib.pyplot as plt\n",
    "import math\n",
    "import sys\n",
    "\n",
    "#defining the function f(x)\n",
    "def f(x):\n",
    "    return (2*10**4)/(1+19*math.e**(-10*x))-10000\n",
    "\n",
    "\n",
    "\n",
    "x=list()  #initializing the list to store the values of approximated root\n",
    "x+=0,1  #initializing the list with the initial guesses\n",
    "error_data=list() #initializing the list to store the error values\n",
    "error_data+=[abs(x[1]-x[0])/abs(x[1])] #appending the first error value to the list\n",
    "iteration_counter=0 #initializing the iteration counter\n",
    "\n",
    "while(error_data[-1]>10**(-4)):   #Loop for the Secant Method\n",
    "    if(f(x[-1])==0):\n",
    "        break  #stop if the root has been found\n",
    "    if(f(x[-1])==f(x[-2])): #checking if the function has a horizontal tangent at the point x[-1]\n",
    "        sys.exit(f\"The function has equal values at two successive iteration points:x_{iteration_counter-1}={x[-2]}, x_{iteration_counter}={x[-1]} and hence the Secant Method cannot be applied on [0,1].\\n The value of the function at both these points is {f(x[-1])}\")\n",
    "            #This will exit the program if the function has equal values at two successive iteration points\n",
    "\n",
    "    x+=[x[-1]-f(x[-1])*(x[-1]-x[-2])/(f(x[-1])-f(x[-2]))] #appending the next value of x to the list\n",
    "    error_data+=[abs(x[-1]-x[-2])/abs(x[-1])] #appending the next error value to the list\n",
    "                                              #x[-1] is the last element of the list x, and x[-2] is the second last element of the list x\n",
    "    iteration_counter+=1 \n",
    "print(\"The approximate root of the equation is\",x[-1],\"with an error of\",error_data[-1],\"obtained with\",iteration_counter,\"iterations\")\n",
    "print(\"The value of the function at the approximated root is\",f'{f(x[-1])}, and rounded to 4 decimal places is: {round(f(x[-1]),4)}')\n",
    "print('\\n')\n",
    "print(\"The root rounded to 4 decimal places is\",round(x[-1],4))"
   ]
  },
  {
   "attachments": {},
   "cell_type": "markdown",
   "metadata": {},
   "source": [
    "### With endpoints $[0,0.9]$"
   ]
  },
  {
   "cell_type": "code",
   "execution_count": 1,
   "metadata": {},
   "outputs": [
    {
     "name": "stdout",
     "output_type": "stream",
     "text": [
      "The approximate root of the equation is 0.29444383088044507 with an error of 1.3862665500774292e-05 obtained with 8 iterations\n",
      "The value of the function at the approximated root is -0.003351809949890594, and rounded to 4 decimal places is: -0.0034\n",
      "\n",
      "\n",
      "The root rounded to 4 decimal places is 0.2944\n"
     ]
    }
   ],
   "source": [
    "#importing the python libraries\n",
    "import matplotlib.pyplot as plt\n",
    "import math\n",
    "import sys\n",
    "\n",
    "#defining the function f(x)\n",
    "def f(x):\n",
    "    return (2*10**4)/(1+19*math.e**(-10*x))-10000\n",
    "\n",
    "\n",
    "\n",
    "x=list()  #initializing the list to store the values of approximated root\n",
    "x+=0,0.9  #initializing the list with the initial guesses\n",
    "error_data=list() #initializing the list to store the error values\n",
    "error_data+=[abs(x[1]-x[0])/abs(x[1])] #appending the first error value to the list\n",
    "iteration_counter=0 #initializing the iteration counter\n",
    "\n",
    "while(error_data[-1]>10**(-4)):   #Loop for the Secant Method\n",
    "    if(f(x[-1])==0):    #break if the root has been found during the last iteration\n",
    "        break\n",
    "    if(f(x[-1])==f(x[-2])): #checking if the function has a horizontal tangent at the point x[-1]\n",
    "        sys.exit(f\"The function has equal values at two successive iteration points:x_{iteration_counter-1}={x[-2]}, x_{iteration_counter}={x[-1]} and hence the Secant Method cannot be applied on [0,1]\")\n",
    "            #This will exit the program if the function has equal values at two successive iteration points\n",
    "\n",
    "    x+=[x[-1]-f(x[-1])*(x[-1]-x[-2])/(f(x[-1])-f(x[-2]))] #appending the next value of x to the list\n",
    "    error_data+=[abs(x[-1]-x[-2])/abs(x[-1])] #appending the next error value to the list\n",
    "                                              #x[-1] is the last element of the list x, and x[-2] is the second last element of the list x\n",
    "    iteration_counter+=1 \n",
    "print(\"The approximate root of the equation is\",x[-1],\"with an error of\",error_data[-1],\"obtained with\",iteration_counter,\"iterations\")\n",
    "print(\"The value of the function at the approximated root is\",f'{f(x[-1])}, and rounded to 4 decimal places is: {round(f(x[-1]),4)}')\n",
    "print('\\n')\n",
    "print(\"The root rounded to 4 decimal places is\",round(x[-1],4))"
   ]
  }
 ],
 "metadata": {
  "kernelspec": {
   "display_name": "Python 3",
   "language": "python",
   "name": "python3"
  },
  "language_info": {
   "codemirror_mode": {
    "name": "ipython",
    "version": 3
   },
   "file_extension": ".py",
   "mimetype": "text/x-python",
   "name": "python",
   "nbconvert_exporter": "python",
   "pygments_lexer": "ipython3",
   "version": "3.8.10"
  },
  "orig_nbformat": 4
 },
 "nbformat": 4,
 "nbformat_minor": 2
}
