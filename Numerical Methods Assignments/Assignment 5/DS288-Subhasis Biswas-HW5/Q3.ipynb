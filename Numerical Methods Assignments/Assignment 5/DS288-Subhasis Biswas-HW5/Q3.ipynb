{
 "cells": [
  {
   "cell_type": "markdown",
   "metadata": {},
   "source": [
    "# Question 3"
   ]
  },
  {
   "cell_type": "code",
   "execution_count": 74,
   "metadata": {},
   "outputs": [],
   "source": [
    "import numpy as np\n",
    "import matplotlib.pyplot as plt\n",
    "import pandas as pd"
   ]
  },
  {
   "cell_type": "code",
   "execution_count": 75,
   "metadata": {},
   "outputs": [
    {
     "name": "stdout",
     "output_type": "stream",
     "text": [
      "           x          y           z                   Error\n",
      "0        0.1        0.1        -0.1                       -\n",
      "1  0.4999833  0.0222298  -0.5230461      0.4230461261913656\n",
      "2  0.4999775   2.82e-05  -0.5235981    0.022201639896641867\n",
      "3        0.5        0.0  -0.5235988  2.8116039917230884e-05\n",
      "4        0.5        0.0  -0.5235988   3.757173792917623e-08\n",
      "Rounded to 5 decimal places, the solution is:  [0.5, 0.0, -0.5236, 0.0]\n"
     ]
    }
   ],
   "source": [
    "#Fixed point iteration method for nonlinear system\n",
    "#Following the solution given in the book\n",
    "\n",
    "\n",
    "def NFPI(g1,g2,g3,x0,y0,z0,e):\n",
    "    record=[]\n",
    "    x=[x0]\n",
    "    y=[y0]\n",
    "    z=[z0]\n",
    "    record+=[[x[-1],y[-1],z[-1]]+[\"-\"]]\n",
    "    x+=[g1(x[-1],y[-1],z[-1])]\n",
    "    y+=[g2(x[-1],y[-1],z[-1])]\n",
    "    z+=[g3(x[-1],y[-1],z[-1])]\n",
    "    record+=[[x[-1],y[-1],z[-1]]+[np.linalg.norm(np.array([x[-1],y[-1],z[-1]])-np.array([x[-2],y[-2],z[-2]]),np.inf)]]\n",
    "\n",
    "    while np.linalg.norm(np.array([x[-1],y[-1],z[-1]])-np.array([x[-2],y[-2],z[-2]]),np.inf)>=e:\n",
    "        x+=[g1(x[-1],y[-1],z[-1])]\n",
    "        y+=[g2(x[-1],y[-1],z[-1])]\n",
    "        z+=[g3(x[-1],y[-1],z[-1])]\n",
    "        record+=[[x[-1],y[-1],z[-1]]+[np.linalg.norm(np.array([x[-1],y[-1],z[-1]])-np.array([x[-2],y[-2],z[-2]]),np.inf)]]\n",
    "        \n",
    "    return record\n",
    "\n",
    "def g1(x,y,z):\n",
    "    return (np.cos(y*z)+1/2)/3\n",
    "\n",
    "def g2(x,y,z):\n",
    "    return np.sqrt(x**2+np.sin(z)+1.06)/9-0.1\n",
    "\n",
    "def g3(x,y,z):\n",
    "    return -np.exp(-x*y)/20+(3-10*np.pi)/60\n",
    "\n",
    "\n",
    "soln=NFPI(g1,g2,g3,0.1,0.1,-0.1,1e-5)\n",
    "\n",
    "df=pd.DataFrame(soln,columns=['x','y','z','Error'])\n",
    "\n",
    "print(df.round(7).astype(str))\n",
    "df.index.name='Iteration'\n",
    "\n",
    "df.round(10).astype(str).to_latex('Q3 Fixed.tex',float_format=\"%.5f\")\n",
    "\n",
    "print('Rounded to 5 decimal places, the solution is: ',np.round(soln[-1],5).tolist())"
   ]
  },
  {
   "cell_type": "code",
   "execution_count": 76,
   "metadata": {},
   "outputs": [
    {
     "name": "stdout",
     "output_type": "stream",
     "text": [
      "              x             y              z                  Error\n",
      "0           0.1           0.1           -0.1                      -\n",
      "1  0.4998696729  0.0194668485  -0.5215204719    0.42152047193583064\n",
      "2  0.5000142402  0.0015885914  -0.5235569643   0.017878257167124205\n",
      "3  0.5000001135   1.24448e-05  -0.5235984501  0.0015761465869723395\n",
      "4           0.5         8e-10  -0.5235987756  1.244400753583079e-05\n",
      "5           0.5           0.0  -0.5235987756  7.757857127143585e-10\n",
      "\n",
      "\n",
      "Rounded to five decimal places:  [0.5, 0.0, -0.5236, 0.0]\n"
     ]
    }
   ],
   "source": [
    "#Newton's method for nonlinear system\n",
    "#Following the solution given in the book\n",
    "\n",
    "def Jacobian(x,y,z):\n",
    "    return np.array([[3,z*np.sin(y*z),y*np.sin(y*z)],\n",
    "                     [2*x,-162*(y+0.1),np.cos(z)],\n",
    "                     [-y*np.exp(-x*y),-x*np.exp(-x*y),20]])\n",
    "\n",
    "def f1(x,y,z):\n",
    "    return 3*x-np.cos(y*z)-1/2\n",
    "\n",
    "def f2(x,y,z):\n",
    "    return x**2-81*(y+0.1)**2+np.sin(z)+1.06\n",
    "\n",
    "def f3(x,y,z):\n",
    "    return np.exp(-x*y)+20*z+(10*np.pi-3)/3\n",
    "\n",
    "def Newton(f1,f2,f3,x0,y0,z0,e):\n",
    "    \n",
    "    def ret_func(x,y,z):\n",
    "        return np.array([f1(x,y,z),f2(x,y,z),f3(x,y,z)]).reshape(3,1)\n",
    "\n",
    "    funcval=ret_func(x0,y0,z0)\n",
    "    x_arr=np.array([x0,y0,z0]).reshape(3,1)\n",
    "    oldval=np.random.rand(3,1)\n",
    "    recordsoln=[]\n",
    "    \n",
    "    recordsoln+=[x_arr.reshape(3,).tolist()+[\"-\"]]\n",
    "\n",
    "    while np.linalg.norm(x_arr-oldval,np.inf)>e:\n",
    "        oldval=x_arr.copy()\n",
    "        inputarr=x_arr.copy().reshape(3,)\n",
    "        x_arr=x_arr-np.linalg.inv(Jacobian(inputarr[0],inputarr[1],inputarr[2]))@funcval\n",
    "        funcval=ret_func(x_arr[0],x_arr[1],x_arr[2])\n",
    "        recordsoln+=[x_arr.reshape(3,).tolist()+[np.linalg.norm(x_arr-oldval,np.inf)]]\n",
    "\n",
    "\n",
    "    return recordsoln\n",
    "\n",
    "result=Newton(f1,f2,f3,0.1,0.1,-0.1,1e-5)\n",
    "\n",
    "df=pd.DataFrame(result,columns=['x','y','z','Error'])\n",
    "\n",
    "print(df.round(10).astype(str))\n",
    "df.index.name='Iteration'\n",
    "\n",
    "df.round(10).astype(str).to_latex('Q3_newton.tex',float_format=\"%.5f\")\n",
    "print(\"\\n\")\n",
    "print('Rounded to five decimal places: ',np.round(result[-1],5).tolist())\n"
   ]
  }
 ],
 "metadata": {
  "kernelspec": {
   "display_name": "Python 3",
   "language": "python",
   "name": "python3"
  },
  "language_info": {
   "codemirror_mode": {
    "name": "ipython",
    "version": 3
   },
   "file_extension": ".py",
   "mimetype": "text/x-python",
   "name": "python",
   "nbconvert_exporter": "python",
   "pygments_lexer": "ipython3",
   "version": "3.8.10"
  }
 },
 "nbformat": 4,
 "nbformat_minor": 2
}
